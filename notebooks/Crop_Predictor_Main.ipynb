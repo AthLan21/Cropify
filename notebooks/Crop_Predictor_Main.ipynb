{
 "cells": [
  {
   "cell_type": "code",
   "execution_count": 1,
   "id": "20db2f27",
   "metadata": {},
   "outputs": [],
   "source": [
    "import numpy as np\n",
    "import pandas as pd\n",
    "from sklearn import metrics\n",
    "from sklearn.metrics import classification_report\n",
    "import seaborn as sns\n",
    "import matplotlib.pyplot as plt"
   ]
  },
  {
   "cell_type": "code",
   "execution_count": 2,
   "id": "a28dacc2",
   "metadata": {},
   "outputs": [],
   "source": [
    "data_main = pd.read_csv(\"C:/Users/DELL/Desktop/Crop Plantation Predictor Atharva/Data/Crop_recommendation.csv\")"
   ]
  },
  {
   "cell_type": "code",
   "execution_count": 3,
   "id": "78f613d8",
   "metadata": {},
   "outputs": [],
   "source": [
    "data_filt = data_main.copy()"
   ]
  },
  {
   "cell_type": "code",
   "execution_count": 4,
   "id": "c72cb0d2",
   "metadata": {},
   "outputs": [
    {
     "data": {
      "text/html": [
       "<div>\n",
       "<style scoped>\n",
       "    .dataframe tbody tr th:only-of-type {\n",
       "        vertical-align: middle;\n",
       "    }\n",
       "\n",
       "    .dataframe tbody tr th {\n",
       "        vertical-align: top;\n",
       "    }\n",
       "\n",
       "    .dataframe thead th {\n",
       "        text-align: right;\n",
       "    }\n",
       "</style>\n",
       "<table border=\"1\" class=\"dataframe\">\n",
       "  <thead>\n",
       "    <tr style=\"text-align: right;\">\n",
       "      <th></th>\n",
       "      <th>N</th>\n",
       "      <th>P</th>\n",
       "      <th>K</th>\n",
       "      <th>temperature</th>\n",
       "      <th>humidity</th>\n",
       "      <th>ph</th>\n",
       "      <th>rainfall</th>\n",
       "      <th>label</th>\n",
       "    </tr>\n",
       "  </thead>\n",
       "  <tbody>\n",
       "    <tr>\n",
       "      <th>0</th>\n",
       "      <td>90</td>\n",
       "      <td>42</td>\n",
       "      <td>43</td>\n",
       "      <td>20.879744</td>\n",
       "      <td>82.002744</td>\n",
       "      <td>6.502985</td>\n",
       "      <td>202.935536</td>\n",
       "      <td>rice</td>\n",
       "    </tr>\n",
       "    <tr>\n",
       "      <th>1</th>\n",
       "      <td>85</td>\n",
       "      <td>58</td>\n",
       "      <td>41</td>\n",
       "      <td>21.770462</td>\n",
       "      <td>80.319644</td>\n",
       "      <td>7.038096</td>\n",
       "      <td>226.655537</td>\n",
       "      <td>rice</td>\n",
       "    </tr>\n",
       "    <tr>\n",
       "      <th>2</th>\n",
       "      <td>60</td>\n",
       "      <td>55</td>\n",
       "      <td>44</td>\n",
       "      <td>23.004459</td>\n",
       "      <td>82.320763</td>\n",
       "      <td>7.840207</td>\n",
       "      <td>263.964248</td>\n",
       "      <td>rice</td>\n",
       "    </tr>\n",
       "    <tr>\n",
       "      <th>3</th>\n",
       "      <td>74</td>\n",
       "      <td>35</td>\n",
       "      <td>40</td>\n",
       "      <td>26.491096</td>\n",
       "      <td>80.158363</td>\n",
       "      <td>6.980401</td>\n",
       "      <td>242.864034</td>\n",
       "      <td>rice</td>\n",
       "    </tr>\n",
       "    <tr>\n",
       "      <th>4</th>\n",
       "      <td>78</td>\n",
       "      <td>42</td>\n",
       "      <td>42</td>\n",
       "      <td>20.130175</td>\n",
       "      <td>81.604873</td>\n",
       "      <td>7.628473</td>\n",
       "      <td>262.717340</td>\n",
       "      <td>rice</td>\n",
       "    </tr>\n",
       "  </tbody>\n",
       "</table>\n",
       "</div>"
      ],
      "text/plain": [
       "    N   P   K  temperature   humidity        ph    rainfall label\n",
       "0  90  42  43    20.879744  82.002744  6.502985  202.935536  rice\n",
       "1  85  58  41    21.770462  80.319644  7.038096  226.655537  rice\n",
       "2  60  55  44    23.004459  82.320763  7.840207  263.964248  rice\n",
       "3  74  35  40    26.491096  80.158363  6.980401  242.864034  rice\n",
       "4  78  42  42    20.130175  81.604873  7.628473  262.717340  rice"
      ]
     },
     "execution_count": 4,
     "metadata": {},
     "output_type": "execute_result"
    }
   ],
   "source": [
    "data_filt.head()"
   ]
  },
  {
   "cell_type": "code",
   "execution_count": 5,
   "id": "f638d118",
   "metadata": {},
   "outputs": [
    {
     "data": {
      "text/plain": [
       "N              0\n",
       "P              0\n",
       "K              0\n",
       "temperature    0\n",
       "humidity       0\n",
       "ph             0\n",
       "rainfall       0\n",
       "label          0\n",
       "dtype: int64"
      ]
     },
     "execution_count": 5,
     "metadata": {},
     "output_type": "execute_result"
    }
   ],
   "source": [
    "data_filt.isnull().sum()"
   ]
  },
  {
   "cell_type": "code",
   "execution_count": 6,
   "id": "9b33b856",
   "metadata": {},
   "outputs": [
    {
     "name": "stdout",
     "output_type": "stream",
     "text": [
      "<class 'pandas.core.frame.DataFrame'>\n",
      "RangeIndex: 2200 entries, 0 to 2199\n",
      "Data columns (total 8 columns):\n",
      " #   Column       Non-Null Count  Dtype  \n",
      "---  ------       --------------  -----  \n",
      " 0   N            2200 non-null   int64  \n",
      " 1   P            2200 non-null   int64  \n",
      " 2   K            2200 non-null   int64  \n",
      " 3   temperature  2200 non-null   float64\n",
      " 4   humidity     2200 non-null   float64\n",
      " 5   ph           2200 non-null   float64\n",
      " 6   rainfall     2200 non-null   float64\n",
      " 7   label        2200 non-null   object \n",
      "dtypes: float64(4), int64(3), object(1)\n",
      "memory usage: 137.6+ KB\n"
     ]
    }
   ],
   "source": [
    "data_filt.info()"
   ]
  },
  {
   "cell_type": "code",
   "execution_count": 7,
   "id": "f5313fb2",
   "metadata": {},
   "outputs": [],
   "source": [
    "data_filt.temperature = round(data_filt.temperature,2)\n",
    "data_filt.humidity = round(data_filt.humidity,2)\n",
    "data_filt.ph = round(data_filt.ph,2)\n",
    "data_filt.rainfall = round(data_filt.rainfall,2)"
   ]
  },
  {
   "cell_type": "code",
   "execution_count": 8,
   "id": "1913ec93",
   "metadata": {},
   "outputs": [
    {
     "data": {
      "text/html": [
       "<div>\n",
       "<style scoped>\n",
       "    .dataframe tbody tr th:only-of-type {\n",
       "        vertical-align: middle;\n",
       "    }\n",
       "\n",
       "    .dataframe tbody tr th {\n",
       "        vertical-align: top;\n",
       "    }\n",
       "\n",
       "    .dataframe thead th {\n",
       "        text-align: right;\n",
       "    }\n",
       "</style>\n",
       "<table border=\"1\" class=\"dataframe\">\n",
       "  <thead>\n",
       "    <tr style=\"text-align: right;\">\n",
       "      <th></th>\n",
       "      <th>N</th>\n",
       "      <th>P</th>\n",
       "      <th>K</th>\n",
       "      <th>temperature</th>\n",
       "      <th>humidity</th>\n",
       "      <th>ph</th>\n",
       "      <th>rainfall</th>\n",
       "      <th>label</th>\n",
       "    </tr>\n",
       "  </thead>\n",
       "  <tbody>\n",
       "    <tr>\n",
       "      <th>0</th>\n",
       "      <td>90</td>\n",
       "      <td>42</td>\n",
       "      <td>43</td>\n",
       "      <td>20.88</td>\n",
       "      <td>82.00</td>\n",
       "      <td>6.50</td>\n",
       "      <td>202.94</td>\n",
       "      <td>rice</td>\n",
       "    </tr>\n",
       "    <tr>\n",
       "      <th>1</th>\n",
       "      <td>85</td>\n",
       "      <td>58</td>\n",
       "      <td>41</td>\n",
       "      <td>21.77</td>\n",
       "      <td>80.32</td>\n",
       "      <td>7.04</td>\n",
       "      <td>226.66</td>\n",
       "      <td>rice</td>\n",
       "    </tr>\n",
       "    <tr>\n",
       "      <th>2</th>\n",
       "      <td>60</td>\n",
       "      <td>55</td>\n",
       "      <td>44</td>\n",
       "      <td>23.00</td>\n",
       "      <td>82.32</td>\n",
       "      <td>7.84</td>\n",
       "      <td>263.96</td>\n",
       "      <td>rice</td>\n",
       "    </tr>\n",
       "    <tr>\n",
       "      <th>3</th>\n",
       "      <td>74</td>\n",
       "      <td>35</td>\n",
       "      <td>40</td>\n",
       "      <td>26.49</td>\n",
       "      <td>80.16</td>\n",
       "      <td>6.98</td>\n",
       "      <td>242.86</td>\n",
       "      <td>rice</td>\n",
       "    </tr>\n",
       "    <tr>\n",
       "      <th>4</th>\n",
       "      <td>78</td>\n",
       "      <td>42</td>\n",
       "      <td>42</td>\n",
       "      <td>20.13</td>\n",
       "      <td>81.60</td>\n",
       "      <td>7.63</td>\n",
       "      <td>262.72</td>\n",
       "      <td>rice</td>\n",
       "    </tr>\n",
       "  </tbody>\n",
       "</table>\n",
       "</div>"
      ],
      "text/plain": [
       "    N   P   K  temperature  humidity    ph  rainfall label\n",
       "0  90  42  43        20.88     82.00  6.50    202.94  rice\n",
       "1  85  58  41        21.77     80.32  7.04    226.66  rice\n",
       "2  60  55  44        23.00     82.32  7.84    263.96  rice\n",
       "3  74  35  40        26.49     80.16  6.98    242.86  rice\n",
       "4  78  42  42        20.13     81.60  7.63    262.72  rice"
      ]
     },
     "execution_count": 8,
     "metadata": {},
     "output_type": "execute_result"
    }
   ],
   "source": [
    "data_filt.head()"
   ]
  },
  {
   "cell_type": "code",
   "execution_count": 9,
   "id": "051ac408",
   "metadata": {},
   "outputs": [
    {
     "data": {
      "text/plain": [
       "rice           100\n",
       "maize          100\n",
       "jute           100\n",
       "cotton         100\n",
       "coconut        100\n",
       "papaya         100\n",
       "orange         100\n",
       "apple          100\n",
       "muskmelon      100\n",
       "watermelon     100\n",
       "grapes         100\n",
       "mango          100\n",
       "banana         100\n",
       "pomegranate    100\n",
       "lentil         100\n",
       "blackgram      100\n",
       "mungbean       100\n",
       "mothbeans      100\n",
       "pigeonpeas     100\n",
       "kidneybeans    100\n",
       "chickpea       100\n",
       "coffee         100\n",
       "Name: label, dtype: int64"
      ]
     },
     "execution_count": 9,
     "metadata": {},
     "output_type": "execute_result"
    }
   ],
   "source": [
    "data_filt['label'].value_counts()"
   ]
  },
  {
   "cell_type": "code",
   "execution_count": 10,
   "id": "45550217",
   "metadata": {},
   "outputs": [
    {
     "name": "stdout",
     "output_type": "stream",
     "text": [
      "<class 'pandas.core.frame.DataFrame'>\n",
      "RangeIndex: 2200 entries, 0 to 2199\n",
      "Data columns (total 8 columns):\n",
      " #   Column       Non-Null Count  Dtype  \n",
      "---  ------       --------------  -----  \n",
      " 0   N            2200 non-null   int64  \n",
      " 1   P            2200 non-null   int64  \n",
      " 2   K            2200 non-null   int64  \n",
      " 3   temperature  2200 non-null   float64\n",
      " 4   humidity     2200 non-null   float64\n",
      " 5   ph           2200 non-null   float64\n",
      " 6   rainfall     2200 non-null   float64\n",
      " 7   label        2200 non-null   object \n",
      "dtypes: float64(4), int64(3), object(1)\n",
      "memory usage: 137.6+ KB\n"
     ]
    }
   ],
   "source": [
    "data_filt.info()"
   ]
  },
  {
   "cell_type": "code",
   "execution_count": 11,
   "id": "19a4ae4d",
   "metadata": {},
   "outputs": [
    {
     "name": "stdout",
     "output_type": "stream",
     "text": [
      "Training Data:   (1760, 7) (1760,)\n",
      "Validation Data: (220, 7) (220,)\n",
      "Testing Data:    (220, 7) (220,)\n"
     ]
    }
   ],
   "source": [
    "from sklearn.model_selection import train_test_split\n",
    "\n",
    "##Seperating 80% of main data as Training Data and 10% as Validation and 10% as Test data\n",
    "\n",
    "train_size = 0.8\n",
    "\n",
    "X = data_filt.drop(columns = ['label']).copy()\n",
    "y = data_filt['label']\n",
    "\n",
    "##   First Splitting data in Train and Remaining data\n",
    "\n",
    "X_train, X_rem, y_train, y_rem = train_test_split(X, y, train_size=0.8)\n",
    "\n",
    "# Now since we want the valid and test size to be equal (10% each of overall data). \n",
    "# we have to define valid_size=0.5 (that is 50% of remaining data)\n",
    "\n",
    "test_size=0.5\n",
    "\n",
    "X_valid, X_test, y_valid, y_test = train_test_split(X_rem,y_rem,test_size=0.5)\n",
    "\n",
    "\n",
    "print(\"Training Data:  \",X_train.shape,y_train.shape)\n",
    "print(\"Validation Data:\",X_valid.shape,y_valid.shape)\n",
    "print(\"Testing Data:   \",X_test.shape,y_test.shape)"
   ]
  },
  {
   "cell_type": "code",
   "execution_count": 12,
   "id": "072d0417",
   "metadata": {},
   "outputs": [
    {
     "data": {
      "text/html": [
       "<div>\n",
       "<style scoped>\n",
       "    .dataframe tbody tr th:only-of-type {\n",
       "        vertical-align: middle;\n",
       "    }\n",
       "\n",
       "    .dataframe tbody tr th {\n",
       "        vertical-align: top;\n",
       "    }\n",
       "\n",
       "    .dataframe thead th {\n",
       "        text-align: right;\n",
       "    }\n",
       "</style>\n",
       "<table border=\"1\" class=\"dataframe\">\n",
       "  <thead>\n",
       "    <tr style=\"text-align: right;\">\n",
       "      <th></th>\n",
       "      <th>N</th>\n",
       "      <th>P</th>\n",
       "      <th>K</th>\n",
       "      <th>temperature</th>\n",
       "      <th>humidity</th>\n",
       "      <th>ph</th>\n",
       "      <th>rainfall</th>\n",
       "    </tr>\n",
       "  </thead>\n",
       "  <tbody>\n",
       "    <tr>\n",
       "      <th>418</th>\n",
       "      <td>26</td>\n",
       "      <td>67</td>\n",
       "      <td>24</td>\n",
       "      <td>36.98</td>\n",
       "      <td>37.74</td>\n",
       "      <td>5.64</td>\n",
       "      <td>161.48</td>\n",
       "    </tr>\n",
       "    <tr>\n",
       "      <th>1436</th>\n",
       "      <td>87</td>\n",
       "      <td>25</td>\n",
       "      <td>46</td>\n",
       "      <td>27.43</td>\n",
       "      <td>90.03</td>\n",
       "      <td>6.38</td>\n",
       "      <td>21.75</td>\n",
       "    </tr>\n",
       "    <tr>\n",
       "      <th>1341</th>\n",
       "      <td>91</td>\n",
       "      <td>7</td>\n",
       "      <td>53</td>\n",
       "      <td>25.14</td>\n",
       "      <td>89.28</td>\n",
       "      <td>6.46</td>\n",
       "      <td>43.53</td>\n",
       "    </tr>\n",
       "    <tr>\n",
       "      <th>157</th>\n",
       "      <td>77</td>\n",
       "      <td>58</td>\n",
       "      <td>19</td>\n",
       "      <td>22.81</td>\n",
       "      <td>56.51</td>\n",
       "      <td>5.79</td>\n",
       "      <td>101.60</td>\n",
       "    </tr>\n",
       "    <tr>\n",
       "      <th>1105</th>\n",
       "      <td>20</td>\n",
       "      <td>19</td>\n",
       "      <td>35</td>\n",
       "      <td>34.18</td>\n",
       "      <td>50.62</td>\n",
       "      <td>6.11</td>\n",
       "      <td>98.01</td>\n",
       "    </tr>\n",
       "  </tbody>\n",
       "</table>\n",
       "</div>"
      ],
      "text/plain": [
       "       N   P   K  temperature  humidity    ph  rainfall\n",
       "418   26  67  24        36.98     37.74  5.64    161.48\n",
       "1436  87  25  46        27.43     90.03  6.38     21.75\n",
       "1341  91   7  53        25.14     89.28  6.46     43.53\n",
       "157   77  58  19        22.81     56.51  5.79    101.60\n",
       "1105  20  19  35        34.18     50.62  6.11     98.01"
      ]
     },
     "execution_count": 12,
     "metadata": {},
     "output_type": "execute_result"
    }
   ],
   "source": [
    "X_train.head()"
   ]
  },
  {
   "cell_type": "markdown",
   "id": "088a9698",
   "metadata": {},
   "source": [
    "## Checking Data Correlation"
   ]
  },
  {
   "cell_type": "code",
   "execution_count": 23,
   "id": "83fed865",
   "metadata": {
    "scrolled": true
   },
   "outputs": [
    {
     "data": {
      "image/png": "[encoded data removed]",
      "text/plain": [
       "<Figure size 576x576 with 2 Axes>"
      ]
     },
     "metadata": {
      "needs_background": "light"
     },
     "output_type": "display_data"
    }
   ],
   "source": [
    "#upp_mat = np.triu(X_train.corr())\n",
    "\n",
    "plt.figure(figsize = (8,8))\n",
    "sns.heatmap(X_train.corr(), annot=True, cmap='RdYlGn')\n",
    "plt.show()"
   ]
  },
  {
   "cell_type": "code",
   "execution_count": 14,
   "id": "0d327f5d",
   "metadata": {},
   "outputs": [
    {
     "data": {
      "text/plain": [
       "418     pigeonpeas\n",
       "1436     muskmelon\n",
       "1341    watermelon\n",
       "157          maize\n",
       "1105         mango\n",
       "Name: label, dtype: object"
      ]
     },
     "execution_count": 14,
     "metadata": {},
     "output_type": "execute_result"
    }
   ],
   "source": [
    "y_train.head()"
   ]
  },
  {
   "cell_type": "markdown",
   "id": "3d350f9a",
   "metadata": {},
   "source": [
    "## As the target variable is in categorical form we need to do OneHotEncoding"
   ]
  },
  {
   "cell_type": "code",
   "execution_count": 15,
   "id": "0725b598",
   "metadata": {},
   "outputs": [
    {
     "data": {
      "text/html": [
       "<div>\n",
       "<style scoped>\n",
       "    .dataframe tbody tr th:only-of-type {\n",
       "        vertical-align: middle;\n",
       "    }\n",
       "\n",
       "    .dataframe tbody tr th {\n",
       "        vertical-align: top;\n",
       "    }\n",
       "\n",
       "    .dataframe thead th {\n",
       "        text-align: right;\n",
       "    }\n",
       "</style>\n",
       "<table border=\"1\" class=\"dataframe\">\n",
       "  <thead>\n",
       "    <tr style=\"text-align: right;\">\n",
       "      <th></th>\n",
       "      <th>banana</th>\n",
       "      <th>blackgram</th>\n",
       "      <th>chickpea</th>\n",
       "      <th>coconut</th>\n",
       "      <th>coffee</th>\n",
       "      <th>cotton</th>\n",
       "      <th>grapes</th>\n",
       "      <th>jute</th>\n",
       "      <th>kidneybeans</th>\n",
       "      <th>lentil</th>\n",
       "      <th>...</th>\n",
       "      <th>mango</th>\n",
       "      <th>mothbeans</th>\n",
       "      <th>mungbean</th>\n",
       "      <th>muskmelon</th>\n",
       "      <th>orange</th>\n",
       "      <th>papaya</th>\n",
       "      <th>pigeonpeas</th>\n",
       "      <th>pomegranate</th>\n",
       "      <th>rice</th>\n",
       "      <th>watermelon</th>\n",
       "    </tr>\n",
       "  </thead>\n",
       "  <tbody>\n",
       "    <tr>\n",
       "      <th>418</th>\n",
       "      <td>0</td>\n",
       "      <td>0</td>\n",
       "      <td>0</td>\n",
       "      <td>0</td>\n",
       "      <td>0</td>\n",
       "      <td>0</td>\n",
       "      <td>0</td>\n",
       "      <td>0</td>\n",
       "      <td>0</td>\n",
       "      <td>0</td>\n",
       "      <td>...</td>\n",
       "      <td>0</td>\n",
       "      <td>0</td>\n",
       "      <td>0</td>\n",
       "      <td>0</td>\n",
       "      <td>0</td>\n",
       "      <td>0</td>\n",
       "      <td>1</td>\n",
       "      <td>0</td>\n",
       "      <td>0</td>\n",
       "      <td>0</td>\n",
       "    </tr>\n",
       "    <tr>\n",
       "      <th>1436</th>\n",
       "      <td>0</td>\n",
       "      <td>0</td>\n",
       "      <td>0</td>\n",
       "      <td>0</td>\n",
       "      <td>0</td>\n",
       "      <td>0</td>\n",
       "      <td>0</td>\n",
       "      <td>0</td>\n",
       "      <td>0</td>\n",
       "      <td>0</td>\n",
       "      <td>...</td>\n",
       "      <td>0</td>\n",
       "      <td>0</td>\n",
       "      <td>0</td>\n",
       "      <td>1</td>\n",
       "      <td>0</td>\n",
       "      <td>0</td>\n",
       "      <td>0</td>\n",
       "      <td>0</td>\n",
       "      <td>0</td>\n",
       "      <td>0</td>\n",
       "    </tr>\n",
       "    <tr>\n",
       "      <th>1341</th>\n",
       "      <td>0</td>\n",
       "      <td>0</td>\n",
       "      <td>0</td>\n",
       "      <td>0</td>\n",
       "      <td>0</td>\n",
       "      <td>0</td>\n",
       "      <td>0</td>\n",
       "      <td>0</td>\n",
       "      <td>0</td>\n",
       "      <td>0</td>\n",
       "      <td>...</td>\n",
       "      <td>0</td>\n",
       "      <td>0</td>\n",
       "      <td>0</td>\n",
       "      <td>0</td>\n",
       "      <td>0</td>\n",
       "      <td>0</td>\n",
       "      <td>0</td>\n",
       "      <td>0</td>\n",
       "      <td>0</td>\n",
       "      <td>1</td>\n",
       "    </tr>\n",
       "    <tr>\n",
       "      <th>157</th>\n",
       "      <td>0</td>\n",
       "      <td>0</td>\n",
       "      <td>0</td>\n",
       "      <td>0</td>\n",
       "      <td>0</td>\n",
       "      <td>0</td>\n",
       "      <td>0</td>\n",
       "      <td>0</td>\n",
       "      <td>0</td>\n",
       "      <td>0</td>\n",
       "      <td>...</td>\n",
       "      <td>0</td>\n",
       "      <td>0</td>\n",
       "      <td>0</td>\n",
       "      <td>0</td>\n",
       "      <td>0</td>\n",
       "      <td>0</td>\n",
       "      <td>0</td>\n",
       "      <td>0</td>\n",
       "      <td>0</td>\n",
       "      <td>0</td>\n",
       "    </tr>\n",
       "    <tr>\n",
       "      <th>1105</th>\n",
       "      <td>0</td>\n",
       "      <td>0</td>\n",
       "      <td>0</td>\n",
       "      <td>0</td>\n",
       "      <td>0</td>\n",
       "      <td>0</td>\n",
       "      <td>0</td>\n",
       "      <td>0</td>\n",
       "      <td>0</td>\n",
       "      <td>0</td>\n",
       "      <td>...</td>\n",
       "      <td>1</td>\n",
       "      <td>0</td>\n",
       "      <td>0</td>\n",
       "      <td>0</td>\n",
       "      <td>0</td>\n",
       "      <td>0</td>\n",
       "      <td>0</td>\n",
       "      <td>0</td>\n",
       "      <td>0</td>\n",
       "      <td>0</td>\n",
       "    </tr>\n",
       "  </tbody>\n",
       "</table>\n",
       "<p>5 rows × 21 columns</p>\n",
       "</div>"
      ],
      "text/plain": [
       "      banana  blackgram  chickpea  coconut  coffee  cotton  grapes  jute  \\\n",
       "418        0          0         0        0       0       0       0     0   \n",
       "1436       0          0         0        0       0       0       0     0   \n",
       "1341       0          0         0        0       0       0       0     0   \n",
       "157        0          0         0        0       0       0       0     0   \n",
       "1105       0          0         0        0       0       0       0     0   \n",
       "\n",
       "      kidneybeans  lentil  ...  mango  mothbeans  mungbean  muskmelon  orange  \\\n",
       "418             0       0  ...      0          0         0          0       0   \n",
       "1436            0       0  ...      0          0         0          1       0   \n",
       "1341            0       0  ...      0          0         0          0       0   \n",
       "157             0       0  ...      0          0         0          0       0   \n",
       "1105            0       0  ...      1          0         0          0       0   \n",
       "\n",
       "      papaya  pigeonpeas  pomegranate  rice  watermelon  \n",
       "418        0           1            0     0           0  \n",
       "1436       0           0            0     0           0  \n",
       "1341       0           0            0     0           1  \n",
       "157        0           0            0     0           0  \n",
       "1105       0           0            0     0           0  \n",
       "\n",
       "[5 rows x 21 columns]"
      ]
     },
     "execution_count": 15,
     "metadata": {},
     "output_type": "execute_result"
    }
   ],
   "source": [
    "from sklearn.preprocessing import OneHotEncoder\n",
    "\n",
    "y_train_encode = y_train\n",
    "\n",
    "y_train_encode = pd.get_dummies(y_train_encode, drop_first=True)\n",
    "\n",
    "y_train_encode.head()"
   ]
  },
  {
   "cell_type": "markdown",
   "id": "e5d46ab3",
   "metadata": {},
   "source": [
    "## ---------- OneHotEncoding for Test Data --------------"
   ]
  },
  {
   "cell_type": "code",
   "execution_count": 16,
   "id": "bafff3e7",
   "metadata": {
    "scrolled": true
   },
   "outputs": [
    {
     "data": {
      "text/html": [
       "<div>\n",
       "<style scoped>\n",
       "    .dataframe tbody tr th:only-of-type {\n",
       "        vertical-align: middle;\n",
       "    }\n",
       "\n",
       "    .dataframe tbody tr th {\n",
       "        vertical-align: top;\n",
       "    }\n",
       "\n",
       "    .dataframe thead th {\n",
       "        text-align: right;\n",
       "    }\n",
       "</style>\n",
       "<table border=\"1\" class=\"dataframe\">\n",
       "  <thead>\n",
       "    <tr style=\"text-align: right;\">\n",
       "      <th></th>\n",
       "      <th>banana</th>\n",
       "      <th>blackgram</th>\n",
       "      <th>chickpea</th>\n",
       "      <th>coconut</th>\n",
       "      <th>coffee</th>\n",
       "      <th>cotton</th>\n",
       "      <th>grapes</th>\n",
       "      <th>jute</th>\n",
       "      <th>kidneybeans</th>\n",
       "      <th>lentil</th>\n",
       "      <th>...</th>\n",
       "      <th>mango</th>\n",
       "      <th>mothbeans</th>\n",
       "      <th>mungbean</th>\n",
       "      <th>muskmelon</th>\n",
       "      <th>orange</th>\n",
       "      <th>papaya</th>\n",
       "      <th>pigeonpeas</th>\n",
       "      <th>pomegranate</th>\n",
       "      <th>rice</th>\n",
       "      <th>watermelon</th>\n",
       "    </tr>\n",
       "  </thead>\n",
       "  <tbody>\n",
       "    <tr>\n",
       "      <th>2152</th>\n",
       "      <td>0</td>\n",
       "      <td>0</td>\n",
       "      <td>0</td>\n",
       "      <td>0</td>\n",
       "      <td>1</td>\n",
       "      <td>0</td>\n",
       "      <td>0</td>\n",
       "      <td>0</td>\n",
       "      <td>0</td>\n",
       "      <td>0</td>\n",
       "      <td>...</td>\n",
       "      <td>0</td>\n",
       "      <td>0</td>\n",
       "      <td>0</td>\n",
       "      <td>0</td>\n",
       "      <td>0</td>\n",
       "      <td>0</td>\n",
       "      <td>0</td>\n",
       "      <td>0</td>\n",
       "      <td>0</td>\n",
       "      <td>0</td>\n",
       "    </tr>\n",
       "    <tr>\n",
       "      <th>853</th>\n",
       "      <td>0</td>\n",
       "      <td>0</td>\n",
       "      <td>0</td>\n",
       "      <td>0</td>\n",
       "      <td>0</td>\n",
       "      <td>0</td>\n",
       "      <td>0</td>\n",
       "      <td>0</td>\n",
       "      <td>0</td>\n",
       "      <td>1</td>\n",
       "      <td>...</td>\n",
       "      <td>0</td>\n",
       "      <td>0</td>\n",
       "      <td>0</td>\n",
       "      <td>0</td>\n",
       "      <td>0</td>\n",
       "      <td>0</td>\n",
       "      <td>0</td>\n",
       "      <td>0</td>\n",
       "      <td>0</td>\n",
       "      <td>0</td>\n",
       "    </tr>\n",
       "    <tr>\n",
       "      <th>2177</th>\n",
       "      <td>0</td>\n",
       "      <td>0</td>\n",
       "      <td>0</td>\n",
       "      <td>0</td>\n",
       "      <td>1</td>\n",
       "      <td>0</td>\n",
       "      <td>0</td>\n",
       "      <td>0</td>\n",
       "      <td>0</td>\n",
       "      <td>0</td>\n",
       "      <td>...</td>\n",
       "      <td>0</td>\n",
       "      <td>0</td>\n",
       "      <td>0</td>\n",
       "      <td>0</td>\n",
       "      <td>0</td>\n",
       "      <td>0</td>\n",
       "      <td>0</td>\n",
       "      <td>0</td>\n",
       "      <td>0</td>\n",
       "      <td>0</td>\n",
       "    </tr>\n",
       "    <tr>\n",
       "      <th>413</th>\n",
       "      <td>0</td>\n",
       "      <td>0</td>\n",
       "      <td>0</td>\n",
       "      <td>0</td>\n",
       "      <td>0</td>\n",
       "      <td>0</td>\n",
       "      <td>0</td>\n",
       "      <td>0</td>\n",
       "      <td>0</td>\n",
       "      <td>0</td>\n",
       "      <td>...</td>\n",
       "      <td>0</td>\n",
       "      <td>0</td>\n",
       "      <td>0</td>\n",
       "      <td>0</td>\n",
       "      <td>0</td>\n",
       "      <td>0</td>\n",
       "      <td>1</td>\n",
       "      <td>0</td>\n",
       "      <td>0</td>\n",
       "      <td>0</td>\n",
       "    </tr>\n",
       "    <tr>\n",
       "      <th>1381</th>\n",
       "      <td>0</td>\n",
       "      <td>0</td>\n",
       "      <td>0</td>\n",
       "      <td>0</td>\n",
       "      <td>0</td>\n",
       "      <td>0</td>\n",
       "      <td>0</td>\n",
       "      <td>0</td>\n",
       "      <td>0</td>\n",
       "      <td>0</td>\n",
       "      <td>...</td>\n",
       "      <td>0</td>\n",
       "      <td>0</td>\n",
       "      <td>0</td>\n",
       "      <td>0</td>\n",
       "      <td>0</td>\n",
       "      <td>0</td>\n",
       "      <td>0</td>\n",
       "      <td>0</td>\n",
       "      <td>0</td>\n",
       "      <td>1</td>\n",
       "    </tr>\n",
       "  </tbody>\n",
       "</table>\n",
       "<p>5 rows × 21 columns</p>\n",
       "</div>"
      ],
      "text/plain": [
       "      banana  blackgram  chickpea  coconut  coffee  cotton  grapes  jute  \\\n",
       "2152       0          0         0        0       1       0       0     0   \n",
       "853        0          0         0        0       0       0       0     0   \n",
       "2177       0          0         0        0       1       0       0     0   \n",
       "413        0          0         0        0       0       0       0     0   \n",
       "1381       0          0         0        0       0       0       0     0   \n",
       "\n",
       "      kidneybeans  lentil  ...  mango  mothbeans  mungbean  muskmelon  orange  \\\n",
       "2152            0       0  ...      0          0         0          0       0   \n",
       "853             0       1  ...      0          0         0          0       0   \n",
       "2177            0       0  ...      0          0         0          0       0   \n",
       "413             0       0  ...      0          0         0          0       0   \n",
       "1381            0       0  ...      0          0         0          0       0   \n",
       "\n",
       "      papaya  pigeonpeas  pomegranate  rice  watermelon  \n",
       "2152       0           0            0     0           0  \n",
       "853        0           0            0     0           0  \n",
       "2177       0           0            0     0           0  \n",
       "413        0           1            0     0           0  \n",
       "1381       0           0            0     0           1  \n",
       "\n",
       "[5 rows x 21 columns]"
      ]
     },
     "execution_count": 16,
     "metadata": {},
     "output_type": "execute_result"
    }
   ],
   "source": [
    "from sklearn.preprocessing import OneHotEncoder\n",
    "\n",
    "y_test_encode = y_test\n",
    "\n",
    "y_test_encode = pd.get_dummies(y_test_encode, drop_first=True)\n",
    "\n",
    "y_test_encode.head()"
   ]
  },
  {
   "cell_type": "markdown",
   "id": "44cd423e",
   "metadata": {},
   "source": [
    "## ----------------- OneHotEncoding for Validation Data ------------------------"
   ]
  },
  {
   "cell_type": "code",
   "execution_count": 17,
   "id": "fe6d6538",
   "metadata": {},
   "outputs": [
    {
     "data": {
      "text/html": [
       "<div>\n",
       "<style scoped>\n",
       "    .dataframe tbody tr th:only-of-type {\n",
       "        vertical-align: middle;\n",
       "    }\n",
       "\n",
       "    .dataframe tbody tr th {\n",
       "        vertical-align: top;\n",
       "    }\n",
       "\n",
       "    .dataframe thead th {\n",
       "        text-align: right;\n",
       "    }\n",
       "</style>\n",
       "<table border=\"1\" class=\"dataframe\">\n",
       "  <thead>\n",
       "    <tr style=\"text-align: right;\">\n",
       "      <th></th>\n",
       "      <th>banana</th>\n",
       "      <th>blackgram</th>\n",
       "      <th>chickpea</th>\n",
       "      <th>coconut</th>\n",
       "      <th>coffee</th>\n",
       "      <th>cotton</th>\n",
       "      <th>grapes</th>\n",
       "      <th>jute</th>\n",
       "      <th>kidneybeans</th>\n",
       "      <th>lentil</th>\n",
       "      <th>...</th>\n",
       "      <th>mango</th>\n",
       "      <th>mothbeans</th>\n",
       "      <th>mungbean</th>\n",
       "      <th>muskmelon</th>\n",
       "      <th>orange</th>\n",
       "      <th>papaya</th>\n",
       "      <th>pigeonpeas</th>\n",
       "      <th>pomegranate</th>\n",
       "      <th>rice</th>\n",
       "      <th>watermelon</th>\n",
       "    </tr>\n",
       "  </thead>\n",
       "  <tbody>\n",
       "    <tr>\n",
       "      <th>1473</th>\n",
       "      <td>0</td>\n",
       "      <td>0</td>\n",
       "      <td>0</td>\n",
       "      <td>0</td>\n",
       "      <td>0</td>\n",
       "      <td>0</td>\n",
       "      <td>0</td>\n",
       "      <td>0</td>\n",
       "      <td>0</td>\n",
       "      <td>0</td>\n",
       "      <td>...</td>\n",
       "      <td>0</td>\n",
       "      <td>0</td>\n",
       "      <td>0</td>\n",
       "      <td>1</td>\n",
       "      <td>0</td>\n",
       "      <td>0</td>\n",
       "      <td>0</td>\n",
       "      <td>0</td>\n",
       "      <td>0</td>\n",
       "      <td>0</td>\n",
       "    </tr>\n",
       "    <tr>\n",
       "      <th>2003</th>\n",
       "      <td>0</td>\n",
       "      <td>0</td>\n",
       "      <td>0</td>\n",
       "      <td>0</td>\n",
       "      <td>0</td>\n",
       "      <td>0</td>\n",
       "      <td>0</td>\n",
       "      <td>1</td>\n",
       "      <td>0</td>\n",
       "      <td>0</td>\n",
       "      <td>...</td>\n",
       "      <td>0</td>\n",
       "      <td>0</td>\n",
       "      <td>0</td>\n",
       "      <td>0</td>\n",
       "      <td>0</td>\n",
       "      <td>0</td>\n",
       "      <td>0</td>\n",
       "      <td>0</td>\n",
       "      <td>0</td>\n",
       "      <td>0</td>\n",
       "    </tr>\n",
       "    <tr>\n",
       "      <th>1685</th>\n",
       "      <td>0</td>\n",
       "      <td>0</td>\n",
       "      <td>0</td>\n",
       "      <td>0</td>\n",
       "      <td>0</td>\n",
       "      <td>0</td>\n",
       "      <td>0</td>\n",
       "      <td>0</td>\n",
       "      <td>0</td>\n",
       "      <td>0</td>\n",
       "      <td>...</td>\n",
       "      <td>0</td>\n",
       "      <td>0</td>\n",
       "      <td>0</td>\n",
       "      <td>0</td>\n",
       "      <td>1</td>\n",
       "      <td>0</td>\n",
       "      <td>0</td>\n",
       "      <td>0</td>\n",
       "      <td>0</td>\n",
       "      <td>0</td>\n",
       "    </tr>\n",
       "    <tr>\n",
       "      <th>2190</th>\n",
       "      <td>0</td>\n",
       "      <td>0</td>\n",
       "      <td>0</td>\n",
       "      <td>0</td>\n",
       "      <td>1</td>\n",
       "      <td>0</td>\n",
       "      <td>0</td>\n",
       "      <td>0</td>\n",
       "      <td>0</td>\n",
       "      <td>0</td>\n",
       "      <td>...</td>\n",
       "      <td>0</td>\n",
       "      <td>0</td>\n",
       "      <td>0</td>\n",
       "      <td>0</td>\n",
       "      <td>0</td>\n",
       "      <td>0</td>\n",
       "      <td>0</td>\n",
       "      <td>0</td>\n",
       "      <td>0</td>\n",
       "      <td>0</td>\n",
       "    </tr>\n",
       "    <tr>\n",
       "      <th>45</th>\n",
       "      <td>0</td>\n",
       "      <td>0</td>\n",
       "      <td>0</td>\n",
       "      <td>0</td>\n",
       "      <td>0</td>\n",
       "      <td>0</td>\n",
       "      <td>0</td>\n",
       "      <td>0</td>\n",
       "      <td>0</td>\n",
       "      <td>0</td>\n",
       "      <td>...</td>\n",
       "      <td>0</td>\n",
       "      <td>0</td>\n",
       "      <td>0</td>\n",
       "      <td>0</td>\n",
       "      <td>0</td>\n",
       "      <td>0</td>\n",
       "      <td>0</td>\n",
       "      <td>0</td>\n",
       "      <td>1</td>\n",
       "      <td>0</td>\n",
       "    </tr>\n",
       "  </tbody>\n",
       "</table>\n",
       "<p>5 rows × 21 columns</p>\n",
       "</div>"
      ],
      "text/plain": [
       "      banana  blackgram  chickpea  coconut  coffee  cotton  grapes  jute  \\\n",
       "1473       0          0         0        0       0       0       0     0   \n",
       "2003       0          0         0        0       0       0       0     1   \n",
       "1685       0          0         0        0       0       0       0     0   \n",
       "2190       0          0         0        0       1       0       0     0   \n",
       "45         0          0         0        0       0       0       0     0   \n",
       "\n",
       "      kidneybeans  lentil  ...  mango  mothbeans  mungbean  muskmelon  orange  \\\n",
       "1473            0       0  ...      0          0         0          1       0   \n",
       "2003            0       0  ...      0          0         0          0       0   \n",
       "1685            0       0  ...      0          0         0          0       1   \n",
       "2190            0       0  ...      0          0         0          0       0   \n",
       "45              0       0  ...      0          0         0          0       0   \n",
       "\n",
       "      papaya  pigeonpeas  pomegranate  rice  watermelon  \n",
       "1473       0           0            0     0           0  \n",
       "2003       0           0            0     0           0  \n",
       "1685       0           0            0     0           0  \n",
       "2190       0           0            0     0           0  \n",
       "45         0           0            0     1           0  \n",
       "\n",
       "[5 rows x 21 columns]"
      ]
     },
     "execution_count": 17,
     "metadata": {},
     "output_type": "execute_result"
    }
   ],
   "source": [
    "from sklearn.preprocessing import OneHotEncoder\n",
    "\n",
    "y_valid_encode = y_valid\n",
    "\n",
    "y_valid_encode = pd.get_dummies(y_valid_encode, drop_first=True)\n",
    "\n",
    "y_valid_encode.head()"
   ]
  },
  {
   "cell_type": "code",
   "execution_count": 76,
   "id": "da9c29e8",
   "metadata": {},
   "outputs": [],
   "source": [
    "## Defining Accuracy and Model list for comparison\n",
    "\n",
    "acc = []\n",
    "models = []"
   ]
  },
  {
   "cell_type": "markdown",
   "id": "48d9c31a",
   "metadata": {},
   "source": [
    "## --------- Decision Tree Model ---------------------"
   ]
  },
  {
   "cell_type": "code",
   "execution_count": 77,
   "id": "a5f2085f",
   "metadata": {},
   "outputs": [
    {
     "name": "stdout",
     "output_type": "stream",
     "text": [
      "Decision Tree Test Accuracy :  1.0\n",
      "Decision Tree Validation Accuracy :  0.9272727272727272\n",
      "              precision    recall  f1-score   support\n",
      "\n",
      "       apple       1.00      1.00      1.00        11\n",
      "      banana       1.00      1.00      1.00         8\n",
      "   blackgram       1.00      1.00      1.00         8\n",
      "    chickpea       1.00      1.00      1.00        10\n",
      "     coconut       1.00      1.00      1.00        13\n",
      "      coffee       1.00      1.00      1.00        15\n",
      "      cotton       1.00      1.00      1.00        14\n",
      "      grapes       1.00      1.00      1.00         9\n",
      "        jute       1.00      1.00      1.00         7\n",
      " kidneybeans       1.00      1.00      1.00        10\n",
      "      lentil       1.00      1.00      1.00        13\n",
      "       maize       1.00      1.00      1.00         8\n",
      "       mango       1.00      1.00      1.00         7\n",
      "   mothbeans       1.00      1.00      1.00         9\n",
      "    mungbean       1.00      1.00      1.00         6\n",
      "   muskmelon       1.00      1.00      1.00        17\n",
      "      orange       1.00      1.00      1.00        14\n",
      "      papaya       1.00      1.00      1.00         6\n",
      "  pigeonpeas       1.00      1.00      1.00        10\n",
      " pomegranate       1.00      1.00      1.00         7\n",
      "        rice       1.00      1.00      1.00         6\n",
      "  watermelon       1.00      1.00      1.00        12\n",
      "\n",
      "    accuracy                           1.00       220\n",
      "   macro avg       1.00      1.00      1.00       220\n",
      "weighted avg       1.00      1.00      1.00       220\n",
      "\n"
     ]
    }
   ],
   "source": [
    "from sklearn.tree import DecisionTreeClassifier\n",
    "\n",
    "DecisionTree = DecisionTreeClassifier(criterion=\"entropy\",random_state=2,max_depth=5)\n",
    "\n",
    "DecisionTree.fit(X_train,y_train)\n",
    "\n",
    "#Test Prediction\n",
    "DT_Test_pred = DecisionTree.predict(X_test)\n",
    "#Test Accuracy\n",
    "DT_Test_acc = metrics.accuracy_score(y_test, predicted_values)\n",
    "print(\"Decision Tree Test Accuracy : \",DT_Test_acc)\n",
    "#acc.append(temp)\n",
    "\n",
    "#Validation Prediction\n",
    "DT_Valid_pred = DecisionTree.predict(X_valid)\n",
    "#Validation Accuracy\n",
    "DT_Valid_acc = metrics.accuracy_score(y_valid, DT_Valid_pred)\n",
    "print(\"Decision Tree Validation Accuracy : \",DT_Valid_acc)\n",
    "acc.append(DT_Valid_acc)\n",
    "\n",
    "models.append('Decision Tree')\n",
    "\n",
    "print(classification_report(y_test,predicted_values))"
   ]
  },
  {
   "cell_type": "markdown",
   "id": "00e519f0",
   "metadata": {},
   "source": [
    "## Decision Tree Cross Validation Score"
   ]
  },
  {
   "cell_type": "code",
   "execution_count": 78,
   "id": "dce3279e",
   "metadata": {},
   "outputs": [
    {
     "data": {
      "text/plain": [
       "array([0.91761364, 0.91477273, 0.88636364, 0.90909091, 0.92897727])"
      ]
     },
     "execution_count": 78,
     "metadata": {},
     "output_type": "execute_result"
    }
   ],
   "source": [
    "from sklearn.model_selection import cross_val_score\n",
    "\n",
    "score = cross_val_score(DecisionTree, X_train, y_train,cv=5)\n",
    "score"
   ]
  },
  {
   "cell_type": "markdown",
   "id": "b36dbb1a",
   "metadata": {},
   "source": [
    "## Saving DecisionTree model using Pickel"
   ]
  },
  {
   "cell_type": "code",
   "execution_count": 79,
   "id": "1b63fcaa",
   "metadata": {},
   "outputs": [],
   "source": [
    "import pickle\n",
    "# Dump the trained Naive Bayes classifier with Pickle\n",
    "DT_pkl_filename = 'models/DecisionTree.pkl'\n",
    "# Open the file to save as pkl file\n",
    "DT_Model_pkl = open(DT_pkl_filename, 'wb')\n",
    "pickle.dump(DecisionTree, DT_Model_pkl)\n",
    "# Close the pickle instances\n",
    "DT_Model_pkl.close()"
   ]
  },
  {
   "cell_type": "markdown",
   "id": "052469fc",
   "metadata": {},
   "source": [
    "# Training Naive Bayes Model"
   ]
  },
  {
   "cell_type": "code",
   "execution_count": 80,
   "id": "f1e2b88f",
   "metadata": {},
   "outputs": [
    {
     "name": "stdout",
     "output_type": "stream",
     "text": [
      "Naive Bayes Test Accuracy :  1.0\n",
      "Naive Bayes Validation Accuracy :  0.990909090909091\n",
      "              precision    recall  f1-score   support\n",
      "\n",
      "       apple       1.00      1.00      1.00        11\n",
      "      banana       1.00      1.00      1.00         8\n",
      "   blackgram       1.00      1.00      1.00         8\n",
      "    chickpea       1.00      1.00      1.00        10\n",
      "     coconut       1.00      1.00      1.00        13\n",
      "      coffee       1.00      1.00      1.00        15\n",
      "      cotton       1.00      1.00      1.00        14\n",
      "      grapes       1.00      1.00      1.00         9\n",
      "        jute       1.00      1.00      1.00         7\n",
      " kidneybeans       1.00      1.00      1.00        10\n",
      "      lentil       1.00      1.00      1.00        13\n",
      "       maize       1.00      1.00      1.00         8\n",
      "       mango       1.00      1.00      1.00         7\n",
      "   mothbeans       1.00      1.00      1.00         9\n",
      "    mungbean       1.00      1.00      1.00         6\n",
      "   muskmelon       1.00      1.00      1.00        17\n",
      "      orange       1.00      1.00      1.00        14\n",
      "      papaya       1.00      1.00      1.00         6\n",
      "  pigeonpeas       1.00      1.00      1.00        10\n",
      " pomegranate       1.00      1.00      1.00         7\n",
      "        rice       1.00      1.00      1.00         6\n",
      "  watermelon       1.00      1.00      1.00        12\n",
      "\n",
      "    accuracy                           1.00       220\n",
      "   macro avg       1.00      1.00      1.00       220\n",
      "weighted avg       1.00      1.00      1.00       220\n",
      "\n"
     ]
    }
   ],
   "source": [
    "from sklearn.naive_bayes import GaussianNB\n",
    "\n",
    "NaiveBayes = GaussianNB()\n",
    "\n",
    "NaiveBayes.fit(X_train,y_train)\n",
    "\n",
    "#Test data prediction\n",
    "NB_Test_predict = NaiveBayes.predict(X_test)\n",
    "#Test Accuracy\n",
    "NB_Test_acc = metrics.accuracy_score(y_test, NB_Test_predict)\n",
    "print(\"Naive Bayes Test Accuracy : \", NB_Test_acc)\n",
    "#acc.append(temp)\n",
    "\n",
    "#Validation Data Prediction\n",
    "NB_Valid_predict = NaiveBayes.predict(X_valid)\n",
    "#Validation Accuracy\n",
    "NB_Valid_acc = metrics.accuracy_score(y_valid, NB_Valid_predict)\n",
    "print(\"Naive Bayes Validation Accuracy : \", NB_Valid_acc)\n",
    "acc.append(NB_Valid_acc)\n",
    "models.append('Naive Bayes')\n",
    "\n",
    "print(classification_report(y_test,predicted_values))"
   ]
  },
  {
   "cell_type": "markdown",
   "id": "6072f421",
   "metadata": {},
   "source": [
    "# Saving Naive Bayes Model using Pickle"
   ]
  },
  {
   "cell_type": "code",
   "execution_count": 81,
   "id": "f74faafd",
   "metadata": {},
   "outputs": [],
   "source": [
    "import pickle\n",
    "\n",
    "NB_Model_Path = \"models/NaiveBayes.pkl\"\n",
    "\n",
    "#Open the file to save as pickle file\n",
    "NB_Model_pkl = open(NB_Model_Path, 'wb')\n",
    "#Dump the model \n",
    "pickle.dump(NaiveBayes, NB_Model_pkl)\n",
    "#close the pickle file\n",
    "NB_Model_pkl.close()"
   ]
  },
  {
   "cell_type": "markdown",
   "id": "ff6a0925",
   "metadata": {},
   "source": [
    "#  SVM Model"
   ]
  },
  {
   "cell_type": "code",
   "execution_count": 83,
   "id": "1865c6fb",
   "metadata": {},
   "outputs": [
    {
     "name": "stdout",
     "output_type": "stream",
     "text": [
      "SVM Test Accuracy :  1.0\n",
      "SVM Validation Accuracy :  0.9772727272727273\n",
      "SVM Accuracy :  100.0\n",
      "\n",
      "              precision    recall  f1-score   support\n",
      "\n",
      "       apple       1.00      1.00      1.00        11\n",
      "      banana       1.00      1.00      1.00         8\n",
      "   blackgram       1.00      1.00      1.00         8\n",
      "    chickpea       1.00      1.00      1.00        10\n",
      "     coconut       1.00      1.00      1.00        13\n",
      "      coffee       1.00      1.00      1.00        15\n",
      "      cotton       1.00      1.00      1.00        14\n",
      "      grapes       1.00      1.00      1.00         9\n",
      "        jute       1.00      1.00      1.00         7\n",
      " kidneybeans       1.00      1.00      1.00        10\n",
      "      lentil       1.00      1.00      1.00        13\n",
      "       maize       1.00      1.00      1.00         8\n",
      "       mango       1.00      1.00      1.00         7\n",
      "   mothbeans       1.00      1.00      1.00         9\n",
      "    mungbean       1.00      1.00      1.00         6\n",
      "   muskmelon       1.00      1.00      1.00        17\n",
      "      orange       1.00      1.00      1.00        14\n",
      "      papaya       1.00      1.00      1.00         6\n",
      "  pigeonpeas       1.00      1.00      1.00        10\n",
      " pomegranate       1.00      1.00      1.00         7\n",
      "        rice       1.00      1.00      1.00         6\n",
      "  watermelon       1.00      1.00      1.00        12\n",
      "\n",
      "    accuracy                           1.00       220\n",
      "   macro avg       1.00      1.00      1.00       220\n",
      "weighted avg       1.00      1.00      1.00       220\n",
      "\n"
     ]
    }
   ],
   "source": [
    "from sklearn.svm import SVC\n",
    "\n",
    "# Data Normalization with SVM\n",
    "from sklearn.preprocessing import MinMaxScaler\n",
    "\n",
    "# Fit Scaler on Training Data\n",
    "normal = MinMaxScaler().fit(X_train)\n",
    "X_train_normal = normal.transform(X_train)\n",
    "\n",
    "#transform testing data\n",
    "X_test_normal = normal.transform(X_test)\n",
    "#transforming Validation Data\n",
    "X_valid_normal = normal.transform(X_valid)\n",
    "\n",
    "SVM = SVC(kernel='poly', degree=3, C=1)\n",
    "SVM.fit(X_train_normal, y_train)\n",
    "\n",
    "#SVM Test predicting \n",
    "SVM_test_predicted_values = SVM.predict(X_test_normal)\n",
    "#Test accuracy\n",
    "SVM_Test_Acc = metrics.accuracy_score(y_test, predicted_values)\n",
    "print(\"SVM Test Accuracy : \",SVM_Test_Acc)\n",
    "#acc.append(SVM_Test_Acc)\n",
    "\n",
    "#SVM Validation Prediction\n",
    "SVM_Valid_Predict = SVM.predict(X_valid_normal)\n",
    "#Validation Accuracy\n",
    "SVM_Valid_Acc = metrics.accuracy_score(y_valid, SVM_Valid_Predict)\n",
    "print(\"SVM Validation Accuracy : \",SVM_Valid_Acc)\n",
    "\n",
    "#acc.append(SVM_Valid_Acc)\n",
    "\n",
    "models.append(\"SVM\")\n",
    "\n",
    "print(\"SVM Accuracy : \",temp*100)\n",
    "print(\"\")\n",
    "print(classification_report(y_test,predicted_values))"
   ]
  },
  {
   "cell_type": "code",
   "execution_count": 92,
   "id": "ab9fc3f9",
   "metadata": {},
   "outputs": [
    {
     "data": {
      "text/plain": [
       "array([0.98295455, 0.98295455, 0.96875   , 0.98863636, 0.98011364])"
      ]
     },
     "execution_count": 92,
     "metadata": {},
     "output_type": "execute_result"
    }
   ],
   "source": [
    "# Cross validation score (SVM)\n",
    "score = cross_val_score(SVM,X_train,y_train,cv=5)\n",
    "score"
   ]
  },
  {
   "cell_type": "markdown",
   "id": "eaf0af62",
   "metadata": {},
   "source": [
    "# Saving SVM model using Pickle"
   ]
  },
  {
   "cell_type": "code",
   "execution_count": 93,
   "id": "96318173",
   "metadata": {},
   "outputs": [],
   "source": [
    "import pickle\n",
    "\n",
    "SVM_Model_path = \"models/SVM.pkl\"\n",
    "SVM_Model_pkl = open(SVM_Model_path, 'wb')\n",
    "\n",
    "pickle.dump(SVM, SVM_Model_pkl)\n",
    "\n",
    "SVM_Model_pkl.close()"
   ]
  },
  {
   "cell_type": "markdown",
   "id": "d4d28f64",
   "metadata": {},
   "source": [
    "# Logistic Regression"
   ]
  },
  {
   "cell_type": "code",
   "execution_count": 95,
   "id": "eb3848fb",
   "metadata": {},
   "outputs": [
    {
     "name": "stdout",
     "output_type": "stream",
     "text": [
      "Logistic Regression Test Accuracy :  0.9636363636363636\n",
      "Logistic Regression Validation Accuracy :  97.27272727272728\n",
      "              precision    recall  f1-score   support\n",
      "\n",
      "       apple       1.00      1.00      1.00        11\n",
      "      banana       1.00      1.00      1.00         8\n",
      "   blackgram       0.78      0.88      0.82         8\n",
      "    chickpea       1.00      1.00      1.00        10\n",
      "     coconut       1.00      1.00      1.00        13\n",
      "      coffee       1.00      1.00      1.00        15\n",
      "      cotton       0.88      1.00      0.93        14\n",
      "      grapes       1.00      1.00      1.00         9\n",
      "        jute       1.00      0.86      0.92         7\n",
      " kidneybeans       1.00      1.00      1.00        10\n",
      "      lentil       0.92      0.92      0.92        13\n",
      "       maize       1.00      0.75      0.86         8\n",
      "       mango       1.00      1.00      1.00         7\n",
      "   mothbeans       0.86      0.67      0.75         9\n",
      "    mungbean       0.86      1.00      0.92         6\n",
      "   muskmelon       1.00      1.00      1.00        17\n",
      "      orange       1.00      1.00      1.00        14\n",
      "      papaya       1.00      1.00      1.00         6\n",
      "  pigeonpeas       1.00      1.00      1.00        10\n",
      " pomegranate       1.00      1.00      1.00         7\n",
      "        rice       0.86      1.00      0.92         6\n",
      "  watermelon       1.00      1.00      1.00        12\n",
      "\n",
      "    accuracy                           0.96       220\n",
      "   macro avg       0.96      0.96      0.96       220\n",
      "weighted avg       0.97      0.96      0.96       220\n",
      "\n"
     ]
    },
    {
     "name": "stderr",
     "output_type": "stream",
     "text": [
      "C:\\Users\\DELL\\AppData\\Local\\Programs\\Python\\Python310\\lib\\site-packages\\sklearn\\linear_model\\_logistic.py:814: ConvergenceWarning: lbfgs failed to converge (status=1):\n",
      "STOP: TOTAL NO. of ITERATIONS REACHED LIMIT.\n",
      "\n",
      "Increase the number of iterations (max_iter) or scale the data as shown in:\n",
      "    https://scikit-learn.org/stable/modules/preprocessing.html\n",
      "Please also refer to the documentation for alternative solver options:\n",
      "    https://scikit-learn.org/stable/modules/linear_model.html#logistic-regression\n",
      "  n_iter_i = _check_optimize_result(\n"
     ]
    }
   ],
   "source": [
    "from sklearn.linear_model import LogisticRegression\n",
    "\n",
    "LogisticReg = LogisticRegression(random_state = 2)\n",
    "\n",
    "LogisticReg.fit(X_train, y_train)\n",
    "\n",
    "predictedVal = LogisticReg.predict(X_test)\n",
    "LR_Test_Accuracy = metrics.accuracy_score(y_test, predictedVal)\n",
    "print(\"Logistic Regression Test Accuracy : \",LR_Test_Accuracy*100)\n",
    "#acc.append(LR_Test_Accuracy)\n",
    "\n",
    "\n",
    "LR_Valid_predict = LogisticReg.predict(X_valid)\n",
    "LR_Validation_Accuracy = metrics.accuracy_score(y_valid, LR_Valid_predict)\n",
    "print(\"Logistic Regression Validation Accuracy : \",LR_Validation_Accuracy*100)\n",
    "\n",
    "acc.append(LR_Validation_Accuracy)\n",
    "\n",
    "models.append(\"Logistic Regression\")\n",
    "\n",
    "print(classification_report(y_test, predictedVal))"
   ]
  },
  {
   "cell_type": "markdown",
   "id": "ba9b5655",
   "metadata": {},
   "source": [
    "# Save Logistic Regression model using Pickle"
   ]
  },
  {
   "cell_type": "code",
   "execution_count": 96,
   "id": "66bcc83d",
   "metadata": {},
   "outputs": [],
   "source": [
    "import pickle\n",
    "\n",
    "LR_Model_path = \"models/LogisticRegression.pkl\"\n",
    "\n",
    "LR_Model_pkl = open(LR_Model_path, 'wb')\n",
    "\n",
    "pickle.dump(LogisticReg, LR_Model_pkl)\n",
    "\n",
    "LR_Model_pkl.close()"
   ]
  },
  {
   "cell_type": "markdown",
   "id": "85daab0c",
   "metadata": {},
   "source": [
    "# Random Forest"
   ]
  },
  {
   "cell_type": "code",
   "execution_count": 98,
   "id": "5710cc66",
   "metadata": {},
   "outputs": [
    {
     "name": "stdout",
     "output_type": "stream",
     "text": [
      "Random Forest Testing Accuracy :  1.0\n",
      "RF's Validation Accuracy :  0.990909090909091\n",
      "              precision    recall  f1-score   support\n",
      "\n",
      "       apple       1.00      1.00      1.00        11\n",
      "      banana       1.00      1.00      1.00         8\n",
      "   blackgram       1.00      1.00      1.00         8\n",
      "    chickpea       1.00      1.00      1.00        10\n",
      "     coconut       1.00      1.00      1.00        13\n",
      "      coffee       1.00      1.00      1.00        15\n",
      "      cotton       1.00      1.00      1.00        14\n",
      "      grapes       1.00      1.00      1.00         9\n",
      "        jute       1.00      1.00      1.00         7\n",
      " kidneybeans       1.00      1.00      1.00        10\n",
      "      lentil       1.00      1.00      1.00        13\n",
      "       maize       1.00      1.00      1.00         8\n",
      "       mango       1.00      1.00      1.00         7\n",
      "   mothbeans       1.00      1.00      1.00         9\n",
      "    mungbean       1.00      1.00      1.00         6\n",
      "   muskmelon       1.00      1.00      1.00        17\n",
      "      orange       1.00      1.00      1.00        14\n",
      "      papaya       1.00      1.00      1.00         6\n",
      "  pigeonpeas       1.00      1.00      1.00        10\n",
      " pomegranate       1.00      1.00      1.00         7\n",
      "        rice       1.00      1.00      1.00         6\n",
      "  watermelon       1.00      1.00      1.00        12\n",
      "\n",
      "    accuracy                           1.00       220\n",
      "   macro avg       1.00      1.00      1.00       220\n",
      "weighted avg       1.00      1.00      1.00       220\n",
      "\n"
     ]
    }
   ],
   "source": [
    "from sklearn.ensemble import RandomForestClassifier\n",
    "\n",
    "RF = RandomForestClassifier(n_estimators=20, random_state=0)\n",
    "RF.fit(X_train,y_train)\n",
    "\n",
    "#Test Predict\n",
    "RF_Test_predict = RF.predict(X_test)\n",
    "RF_Test_Acc = metrics.accuracy_score(y_test, predicted_values)\n",
    "print(\"Random Forest Testing Accuracy : \",RF_Test_Acc)\n",
    "#acc.append(RF_Test_Acc)\n",
    "\n",
    "RF_Valid_predict = RF.predict(X_valid)\n",
    "RF_Valid_accuracy = metrics.accuracy_score(y_valid, RF_Valid_predict)\n",
    "print(\"RF's Validation Accuracy : \", RF_Valid_accuracy)\n",
    "acc.append(temp2)\n",
    "\n",
    "models.append('RF')\n",
    "print(classification_report(y_test,predicted_values))"
   ]
  },
  {
   "cell_type": "code",
   "execution_count": null,
   "id": "3e1cde4f",
   "metadata": {},
   "outputs": [],
   "source": []
  },
  {
   "cell_type": "markdown",
   "id": "397dba11",
   "metadata": {},
   "source": [
    "# Saving RF Model using Pickle"
   ]
  },
  {
   "cell_type": "code",
   "execution_count": 101,
   "id": "cf84b47b",
   "metadata": {},
   "outputs": [],
   "source": [
    "import pickle\n",
    "# Dump the trained Naive Bayes classifier with Pickle\n",
    "RF_pkl_path = 'models/RandomForest.pkl'\n",
    "# Open the file to save as pkl file\n",
    "RF_Model_pkl = open(RF_pkl_path, 'wb')\n",
    "pickle.dump(RF, RF_Model_pkl)\n",
    "# Close the pickle instances\n",
    "RF_Model_pkl.close()"
   ]
  },
  {
   "cell_type": "markdown",
   "id": "bceea5d4",
   "metadata": {},
   "source": [
    "# XGBoost"
   ]
  },
  {
   "cell_type": "code",
   "execution_count": 109,
   "id": "60f71ddd",
   "metadata": {},
   "outputs": [
    {
     "name": "stderr",
     "output_type": "stream",
     "text": [
      "C:\\Users\\DELL\\AppData\\Local\\Programs\\Python\\Python310\\lib\\site-packages\\xgboost\\sklearn.py:1224: UserWarning: The use of label encoder in XGBClassifier is deprecated and will be removed in a future release. To remove this warning, do the following: 1) Pass option use_label_encoder=False when constructing XGBClassifier object; and 2) Encode your labels (y) as integers starting with 0, i.e. 0, 1, 2, ..., [num_class - 1].\n",
      "  warnings.warn(label_encoder_deprecation_msg, UserWarning)\n",
      "C:\\Users\\DELL\\AppData\\Local\\Programs\\Python\\Python310\\lib\\site-packages\\xgboost\\data.py:262: FutureWarning: pandas.Int64Index is deprecated and will be removed from pandas in a future version. Use pandas.Index with the appropriate dtype instead.\n",
      "  elif isinstance(data.columns, (pd.Int64Index, pd.RangeIndex)):\n"
     ]
    },
    {
     "name": "stdout",
     "output_type": "stream",
     "text": [
      "[00:59:09] WARNING: C:/Users/Administrator/workspace/xgboost-win64_release_1.5.1/src/learner.cc:1115: Starting in XGBoost 1.3.0, the default evaluation metric used with the objective 'multi:softprob' was changed from 'merror' to 'mlogloss'. Explicitly set eval_metric if you'd like to restore the old behavior.\n",
      "XGBoost Test Accuracy :  0.990909090909091\n",
      "XGBoost Validation Accuracy :  0.9863636363636363\n",
      "              precision    recall  f1-score   support\n",
      "\n",
      "       apple       1.00      1.00      1.00        11\n",
      "      banana       1.00      1.00      1.00         8\n",
      "   blackgram       1.00      1.00      1.00         8\n",
      "    chickpea       1.00      1.00      1.00        10\n",
      "     coconut       1.00      1.00      1.00        13\n",
      "      coffee       1.00      1.00      1.00        15\n",
      "      cotton       1.00      1.00      1.00        14\n",
      "      grapes       1.00      1.00      1.00         9\n",
      "        jute       1.00      1.00      1.00         7\n",
      " kidneybeans       1.00      1.00      1.00        10\n",
      "      lentil       1.00      1.00      1.00        13\n",
      "       maize       1.00      1.00      1.00         8\n",
      "       mango       1.00      1.00      1.00         7\n",
      "   mothbeans       1.00      1.00      1.00         9\n",
      "    mungbean       1.00      1.00      1.00         6\n",
      "   muskmelon       1.00      1.00      1.00        17\n",
      "      orange       1.00      1.00      1.00        14\n",
      "      papaya       1.00      1.00      1.00         6\n",
      "  pigeonpeas       1.00      1.00      1.00        10\n",
      " pomegranate       1.00      1.00      1.00         7\n",
      "        rice       1.00      1.00      1.00         6\n",
      "  watermelon       1.00      1.00      1.00        12\n",
      "\n",
      "    accuracy                           1.00       220\n",
      "   macro avg       1.00      1.00      1.00       220\n",
      "weighted avg       1.00      1.00      1.00       220\n",
      "\n"
     ]
    },
    {
     "name": "stderr",
     "output_type": "stream",
     "text": [
      "C:\\Users\\DELL\\AppData\\Local\\Programs\\Python\\Python310\\lib\\site-packages\\xgboost\\data.py:262: FutureWarning: pandas.Int64Index is deprecated and will be removed from pandas in a future version. Use pandas.Index with the appropriate dtype instead.\n",
      "  elif isinstance(data.columns, (pd.Int64Index, pd.RangeIndex)):\n"
     ]
    }
   ],
   "source": [
    "import xgboost as xgb\n",
    "XB = xgb.XGBClassifier()\n",
    "XB.fit(X_train,y_train)\n",
    "\n",
    "#Test Prediction\n",
    "XB_Test_predict = XB.predict(X_test)\n",
    "#Test Accuracy\n",
    "XB_Test_acc = metrics.accuracy_score(y_test, XB_Test_predict)\n",
    "print(\"XGBoost Test Accuracy : \", XB_Test_acc)\n",
    "#acc.append(XB_Test_acc)\n",
    "\n",
    "#Validation Prediction\n",
    "XB_Valid_predict = XB.predict(X_valid)\n",
    "#Validation Accuracy\n",
    "XB_Valid_acc = metrics.accuracy_score(y_valid, XB_Valid_predict)\n",
    "print(\"XGBoost Validation Accuracy : \", XB_Valid_acc)\n",
    "\n",
    "acc.append(XB_Valid_acc)\n",
    "\n",
    "models.append('XGBoost')\n",
    "print(classification_report(y_test,predicted_values))"
   ]
  },
  {
   "cell_type": "code",
   "execution_count": 111,
   "id": "fb30c358",
   "metadata": {},
   "outputs": [
    {
     "name": "stdout",
     "output_type": "stream",
     "text": [
      "[0.9272727272727272, 0.990909090909091, 0.9772727272727273, 0.9727272727272728, 0.990909090909091, 0.9863636363636363]\n"
     ]
    },
    {
     "data": {
      "text/plain": [
       "['Decision Tree', 'Naive Bayes', 'SVM', 'Logistic Regression', 'RF', 'XGBoost']"
      ]
     },
     "execution_count": 111,
     "metadata": {},
     "output_type": "execute_result"
    }
   ],
   "source": [
    "print(acc)\n",
    "models"
   ]
  },
  {
   "cell_type": "markdown",
   "id": "a09782eb",
   "metadata": {},
   "source": [
    "# Saving XGBoost Model"
   ]
  },
  {
   "cell_type": "code",
   "execution_count": 112,
   "id": "7bf660b8",
   "metadata": {},
   "outputs": [],
   "source": [
    "import pickle\n",
    "# Dump the trained Naive Bayes classifier with Pickle\n",
    "XB_Model_path = 'models/XGBoost.pkl'\n",
    "# Open the file to save as pkl file\n",
    "XB_Model_pkl = open(XB_Model_path, 'wb')\n",
    "pickle.dump(XB, XB_Model_pkl)\n",
    "# Close the pickle instances\n",
    "XB_Model_pkl.close()"
   ]
  },
  {
   "cell_type": "markdown",
   "id": "7c633ae7",
   "metadata": {},
   "source": [
    "# Accuracy Comparison"
   ]
  },
  {
   "cell_type": "code",
   "execution_count": 116,
   "id": "01764be6",
   "metadata": {},
   "outputs": [
    {
     "data": {
      "text/plain": [
       "<AxesSubplot:title={'center':'Accuracy Comparison'}, xlabel='Accuracy', ylabel='Algorithm'>"
      ]
     },
     "execution_count": 116,
     "metadata": {},
     "output_type": "execute_result"
    },
    {
     "data": {
      "image/png": "[encoded data removed]",
      "text/plain": [
       "<Figure size 1000x500 with 1 Axes>"
      ]
     },
     "metadata": {
      "needs_background": "light"
     },
     "output_type": "display_data"
    }
   ],
   "source": [
    "plt.figure(figsize=[10,5],dpi = 100)\n",
    "plt.title('Accuracy Comparison')\n",
    "plt.xlabel('Accuracy')\n",
    "plt.ylabel('Algorithm')\n",
    "sns.barplot(x = acc,y = models,palette='dark')"
   ]
  },
  {
   "cell_type": "code",
   "execution_count": 118,
   "id": "e9141653",
   "metadata": {},
   "outputs": [
    {
     "name": "stdout",
     "output_type": "stream",
     "text": [
      "Decision Tree --> 0.93\n",
      "Naive Bayes --> 0.99\n",
      "SVM --> 0.98\n",
      "Logistic Regression --> 0.97\n",
      "RF --> 0.99\n",
      "XGBoost --> 0.99\n"
     ]
    }
   ],
   "source": [
    "models_accuracy = dict(zip(models, acc))\n",
    "for k, v in models_accuracy.items():\n",
    "    print (k, '-->', round(v,2))"
   ]
  },
  {
   "cell_type": "markdown",
   "id": "ebe15ffb",
   "metadata": {},
   "source": [
    "# Making a Prediction"
   ]
  },
  {
   "cell_type": "code",
   "execution_count": 129,
   "id": "d492a7c7",
   "metadata": {},
   "outputs": [
    {
     "name": "stdout",
     "output_type": "stream",
     "text": [
      "['coffee']\n"
     ]
    },
    {
     "name": "stderr",
     "output_type": "stream",
     "text": [
      "C:\\Users\\DELL\\AppData\\Local\\Programs\\Python\\Python310\\lib\\site-packages\\sklearn\\base.py:450: UserWarning: X does not have valid feature names, but RandomForestClassifier was fitted with feature names\n",
      "  warnings.warn(\n"
     ]
    }
   ],
   "source": [
    "data = np.array([[200,18, 30, 23.603016, 60.3, 6.7, 140.91]])\n",
    "prediction = RF.predict(data)\n",
    "print(prediction)"
   ]
  },
  {
   "cell_type": "code",
   "execution_count": 130,
   "id": "64714d6e",
   "metadata": {},
   "outputs": [
    {
     "name": "stdout",
     "output_type": "stream",
     "text": [
      "['jute']\n"
     ]
    },
    {
     "name": "stderr",
     "output_type": "stream",
     "text": [
      "C:\\Users\\DELL\\AppData\\Local\\Programs\\Python\\Python310\\lib\\site-packages\\sklearn\\base.py:450: UserWarning: X does not have valid feature names, but RandomForestClassifier was fitted with feature names\n",
      "  warnings.warn(\n"
     ]
    }
   ],
   "source": [
    "data = np.array([[83, 45, 60, 28, 70.3, 7.0, 150.9]])\n",
    "prediction = RF.predict(data)\n",
    "print(prediction)"
   ]
  },
  {
   "cell_type": "code",
   "execution_count": null,
   "id": "1a9b9b8f",
   "metadata": {},
   "outputs": [],
   "source": []
  }
 ],
 "metadata": {
  "kernelspec": {
   "display_name": "Python 3 (ipykernel)",
   "language": "python",
   "name": "python3"
  },
  "language_info": {
   "codemirror_mode": {
    "name": "ipython",
    "version": 3
   },
   "file_extension": ".py",
   "mimetype": "text/x-python",
   "name": "python",
   "nbconvert_exporter": "python",
   "pygments_lexer": "ipython3",
   "version": "3.10.2"
  }
 },
 "nbformat": 4,
 "nbformat_minor": 5
}
